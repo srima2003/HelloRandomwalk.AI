{
  "nbformat": 4,
  "nbformat_minor": 0,
  "metadata": {
    "colab": {
      "provenance": []
    },
    "kernelspec": {
      "name": "python3",
      "display_name": "Python 3"
    },
    "language_info": {
      "name": "python"
    }
  },
  "cells": [
    {
      "cell_type": "code",
      "source": [
        "!sudo apt install tesseract-ocr\n",
        "!pip install pytesseract"
      ],
      "metadata": {
        "colab": {
          "base_uri": "https://localhost:8080/"
        },
        "id": "tFSkAjSoKx7I",
        "outputId": "71246a36-7050-4e68-aef1-db75ce70699e"
      },
      "execution_count": 21,
      "outputs": [
        {
          "output_type": "stream",
          "name": "stdout",
          "text": [
            "Reading package lists... Done\n",
            "Building dependency tree... Done\n",
            "Reading state information... Done\n",
            "tesseract-ocr is already the newest version (4.1.1-2.1build1).\n",
            "0 upgraded, 0 newly installed, 0 to remove and 49 not upgraded.\n",
            "Requirement already satisfied: pytesseract in /usr/local/lib/python3.10/dist-packages (0.3.13)\n",
            "Requirement already satisfied: packaging>=21.3 in /usr/local/lib/python3.10/dist-packages (from pytesseract) (24.1)\n",
            "Requirement already satisfied: Pillow>=8.0.0 in /usr/local/lib/python3.10/dist-packages (from pytesseract) (10.4.0)\n"
          ]
        }
      ]
    },
    {
      "cell_type": "code",
      "source": [
        "from PIL import Image\n",
        "import pytesseract\n",
        "import re\n",
        "\n",
        "# Function to clean and process OCR output\n",
        "def clean_text(text):\n",
        "    # Remove unwanted characters and symbols\n",
        "    text = re.sub(r'[_\\|\\-—]', '', text)  # Remove underscores, pipes, dashes\n",
        "    return text\n",
        "\n",
        "# Function to dynamically group text into headings and lists\n",
        "def extract_text_from_image(image_path):\n",
        "    # Load the image\n",
        "    img = Image.open(image_path)\n",
        "\n",
        "    # Perform OCR to extract raw text\n",
        "    raw_text = pytesseract.image_to_string(img)\n",
        "\n",
        "    # Clean the raw text\n",
        "    clean_raw_text = clean_text(raw_text)\n",
        "\n",
        "    # Split the cleaned text into lines\n",
        "    lines = [line.strip() for line in clean_raw_text.split('\\n') if line.strip()]\n",
        "\n",
        "    # Initialize dictionary to store organized text\n",
        "    organized_output = {}\n",
        "\n",
        "    # Heuristic patterns for headings and subheadings:\n",
        "    # - Headings: Usually single line, capitalized, and short (e.g., \"Hypothalamus\")\n",
        "    # - Subheadings: Typically follow the headings, often a list of items\n",
        "    heading_pattern = re.compile(r'^[A-Z][a-z\\s]+$|^[A-Z][a-z]+\\s[A-Z][a-z]+$')  # Simple heuristic for headings\n",
        "    current_key = None\n",
        "\n",
        "    # Loop through lines to dynamically detect headings and associated subheadings (descriptions)\n",
        "    for line in lines:\n",
        "        # Check if the current line is a heading\n",
        "        if heading_pattern.match(line) or re.match(r'^[A-Z ]+$', line):\n",
        "            current_key = line\n",
        "            organized_output[current_key] = []  # Initialize the heading with an empty list for subheadings\n",
        "        else:\n",
        "            # This is a subheading (description) related to the current heading\n",
        "            if current_key:\n",
        "                organized_output[current_key].append(line)\n",
        "\n",
        "    return organized_output\n",
        "\n",
        "# Example usage for the uploaded image\n",
        "image_path = '/content/sample1.png'\n",
        "organized_output = extract_text_from_image(image_path)\n",
        "\n",
        "# Reorganizing the data to match a more structured dictionary format\n",
        "# For example, we'll combine subheadings into a single string for each heading\n",
        "\n",
        "final_output = {key: ', '.join(value) for key, value in organized_output.items()}\n",
        "\n",
        "final_output\n"
      ],
      "metadata": {
        "colab": {
          "base_uri": "https://localhost:8080/"
        },
        "id": "oOGsuZ40LUrx",
        "outputId": "5968dcaa-0c10-4da2-8e1d-fcdfcbb97995"
      },
      "execution_count": 23,
      "outputs": [
        {
          "output_type": "execute_result",
          "data": {
            "text/plain": [
              "{'Represents strength and courage': 'Dharma Chakra (Wheel of Law)',\n",
              " 'White': '',\n",
              " 'Symbolizes peace and truth': '',\n",
              " 'Green': 'Represents fertility, growth, and auspiciousness of the land'}"
            ]
          },
          "metadata": {},
          "execution_count": 23
        }
      ]
    }
  ]
}